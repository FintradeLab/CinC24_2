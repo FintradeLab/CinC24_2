{
  "nbformat": 4,
  "nbformat_minor": 0,
  "metadata": {
    "colab": {
      "provenance": [],
      "toc_visible": true,
      "authorship_tag": "ABX9TyOMgC01e43HtNAwKS2+9+b9",
      "include_colab_link": true
    },
    "kernelspec": {
      "name": "python3",
      "display_name": "Python 3"
    },
    "language_info": {
      "name": "python"
    }
  },
  "cells": [
    {
      "cell_type": "markdown",
      "metadata": {
        "id": "view-in-github",
        "colab_type": "text"
      },
      "source": [
        "<a href=\"https://colab.research.google.com/github/FintradeLab/CinC24_2/blob/main/00_Basic_MD.ipynb\" target=\"_parent\"><img src=\"https://colab.research.google.com/assets/colab-badge.svg\" alt=\"Open In Colab\"/></a>"
      ]
    },
    {
      "cell_type": "markdown",
      "source": [
        "# Título"
      ],
      "metadata": {
        "id": "WAwy5lkRGTcl"
      }
    },
    {
      "cell_type": "markdown",
      "source": [
        "## Subtítulo"
      ],
      "metadata": {
        "id": "g9tSRuewGpzQ"
      }
    },
    {
      "cell_type": "markdown",
      "source": [
        "khkajsd askdhaskda akhkasd asdas aksdab"
      ],
      "metadata": {
        "id": "liQDpNHKGzdn"
      }
    },
    {
      "cell_type": "markdown",
      "source": [
        "# Text Formating"
      ],
      "metadata": {
        "id": "iEf3_Ga7HMj6"
      }
    },
    {
      "cell_type": "markdown",
      "source": [
        "## Bold\n",
        "\n",
        "**José Rodrigo Vélez Molano**"
      ],
      "metadata": {
        "id": "9hVt44oWHb1i"
      }
    },
    {
      "cell_type": "markdown",
      "source": [
        "## Italics\n",
        "\n",
        "*José Rodrigo Vélez Molano*"
      ],
      "metadata": {
        "id": "t8dCjyxxH7gM"
      }
    },
    {
      "cell_type": "markdown",
      "source": [
        "## Combine\n",
        "\n",
        "***José Rodrigo Vélez Molano***"
      ],
      "metadata": {
        "id": "Ri_LWlAeIGRh"
      }
    },
    {
      "cell_type": "markdown",
      "source": [
        "## Underline\n",
        "\n",
        "With Markdown it cannot be done... but...\n",
        "\n",
        "<u> José Rodrigo Vélez Molano </u>"
      ],
      "metadata": {
        "id": "6Sdz9WTaIY05"
      }
    },
    {
      "cell_type": "markdown",
      "source": [
        "## Change color and font\n",
        "\n",
        "<font color = 'blue' face = 'Gothic' size = 20> José Rodrigo Vélez Molano </font>"
      ],
      "metadata": {
        "id": "SFNGyFO-JmP9"
      }
    },
    {
      "cell_type": "code",
      "execution_count": null,
      "metadata": {
        "id": "NGs8EoOaDCZw"
      },
      "outputs": [],
      "source": []
    }
  ]
}