{
  "nbformat": 4,
  "nbformat_minor": 0,
  "metadata": {
    "colab": {
      "provenance": [],
      "authorship_tag": "ABX9TyMaA/kI3T580eNOQHl5TXMo",
      "include_colab_link": true
    },
    "kernelspec": {
      "name": "python3",
      "display_name": "Python 3"
    },
    "language_info": {
      "name": "python"
    }
  },
  "cells": [
    {
      "cell_type": "markdown",
      "metadata": {
        "id": "view-in-github",
        "colab_type": "text"
      },
      "source": [
        "<a href=\"https://colab.research.google.com/github/FintradeLab/CinC24_2/blob/main/03_Data_Structure.ipynb\" target=\"_parent\"><img src=\"https://colab.research.google.com/assets/colab-badge.svg\" alt=\"Open In Colab\"/></a>"
      ]
    },
    {
      "cell_type": "markdown",
      "source": [
        "# **1. What is a DS?**"
      ],
      "metadata": {
        "id": "Eqb0LuXwVFGd"
      }
    },
    {
      "cell_type": "markdown",
      "source": [
        "A variable that stores a *value sequence*.\n",
        "\n",
        "Expamples: List,arrays, tuplets, database"
      ],
      "metadata": {
        "id": "y2MEgXG1VOFg"
      }
    },
    {
      "cell_type": "markdown",
      "source": [
        "# **2. Linear Algebra**"
      ],
      "metadata": {
        "id": "m2VGUMalV85p"
      }
    },
    {
      "cell_type": "markdown",
      "source": [
        "## 2.1. Numpy"
      ],
      "metadata": {
        "id": "TSg0TFKWWL_y"
      }
    },
    {
      "cell_type": "markdown",
      "source": [
        "Numpy (Numerical Python) is a library that perform operations in DS. Meaning, it does linear algebra."
      ],
      "metadata": {
        "id": "HzJPhfBSWSah"
      }
    },
    {
      "cell_type": "code",
      "execution_count": 1,
      "metadata": {
        "id": "6yURddT7U4JC"
      },
      "outputs": [],
      "source": [
        "import numpy as np"
      ]
    },
    {
      "cell_type": "markdown",
      "source": [
        "## 2.2. Numpy arrays - Vectors and Matrices"
      ],
      "metadata": {
        "id": "YCB-6cabXjDD"
      }
    },
    {
      "cell_type": "code",
      "source": [
        "# Column vector\n",
        "a = np.array([[1],[2],[3]])\n",
        "print(a)\n",
        "print(a.shape)"
      ],
      "metadata": {
        "colab": {
          "base_uri": "https://localhost:8080/"
        },
        "id": "M_GdY6-SXC8D",
        "outputId": "36991304-c662-4cb8-dd8f-99a69d726f82"
      },
      "execution_count": 2,
      "outputs": [
        {
          "output_type": "stream",
          "name": "stdout",
          "text": [
            "[[1]\n",
            " [2]\n",
            " [3]]\n",
            "(3, 1)\n"
          ]
        }
      ]
    },
    {
      "cell_type": "code",
      "source": [
        "# Row vector\n",
        "b = np.array([[4,5,6]])\n",
        "print(b)\n",
        "print(b.shape)"
      ],
      "metadata": {
        "colab": {
          "base_uri": "https://localhost:8080/"
        },
        "id": "kNeauyGwZ_nZ",
        "outputId": "f1c73d30-c71e-40fb-f4d3-a86872aa63b9"
      },
      "execution_count": 3,
      "outputs": [
        {
          "output_type": "stream",
          "name": "stdout",
          "text": [
            "[[4 5 6]]\n",
            "(1, 3)\n"
          ]
        }
      ]
    },
    {
      "cell_type": "code",
      "source": [
        "# Squared Matrix\n",
        "A = np.array([[1,2,3],\n",
        "              [4,5,6],\n",
        "              [7,8,9]])\n",
        "print(A)\n",
        "print(A.shape)"
      ],
      "metadata": {
        "colab": {
          "base_uri": "https://localhost:8080/"
        },
        "id": "E1trWqO6aP5v",
        "outputId": "d24040f4-1fe6-4d71-a28e-fe577015254a"
      },
      "execution_count": 4,
      "outputs": [
        {
          "output_type": "stream",
          "name": "stdout",
          "text": [
            "[[1 2 3]\n",
            " [4 5 6]\n",
            " [7 8 9]]\n",
            "(3, 3)\n"
          ]
        }
      ]
    },
    {
      "cell_type": "code",
      "source": [
        "s = A.shape\n",
        "print(s)\n",
        "\n",
        "n, m = A.shape\n",
        "print('Number of rows', n)\n",
        "print('Number of columns', m)"
      ],
      "metadata": {
        "colab": {
          "base_uri": "https://localhost:8080/"
        },
        "id": "1203tp0NbYdf",
        "outputId": "771dcad9-5f4e-4cd8-a755-997b6f8bde60"
      },
      "execution_count": 5,
      "outputs": [
        {
          "output_type": "stream",
          "name": "stdout",
          "text": [
            "(3, 3)\n",
            "Number of rows 3\n",
            "Number of columns 3\n"
          ]
        }
      ]
    },
    {
      "cell_type": "code",
      "source": [
        "## WARNING!!!\n",
        "x = 2\n",
        "y = np.array([[2]])\n",
        "print(type(x), type(y))"
      ],
      "metadata": {
        "colab": {
          "base_uri": "https://localhost:8080/"
        },
        "id": "ayUL30ETcCHN",
        "outputId": "881a761a-652a-4b3f-f40f-f9357363ea24"
      },
      "execution_count": 6,
      "outputs": [
        {
          "output_type": "stream",
          "name": "stdout",
          "text": [
            "<class 'int'> <class 'numpy.ndarray'>\n"
          ]
        }
      ]
    },
    {
      "cell_type": "markdown",
      "source": [
        "## 2.3. Slicing"
      ],
      "metadata": {
        "id": "U1avI3NnYB6R"
      }
    },
    {
      "cell_type": "code",
      "source": [
        "# Extract one element\n",
        "\n",
        "print(A[0,0]) # Extract the element in row 1 column 1\n",
        "print(a[1,0]) # Extract the element in row 2 column 1\n",
        "print(b[0,1]) # Extract the element in row 1 column 2"
      ],
      "metadata": {
        "colab": {
          "base_uri": "https://localhost:8080/"
        },
        "id": "uNuxWvXAYHlX",
        "outputId": "9027da10-d3ab-4177-ada1-c11c90665458"
      },
      "execution_count": 8,
      "outputs": [
        {
          "output_type": "stream",
          "name": "stdout",
          "text": [
            "1\n",
            "2\n",
            "5\n"
          ]
        }
      ]
    },
    {
      "cell_type": "code",
      "source": [
        "# A little trick\n",
        "\n",
        "print(A[-1,-1]) # Extract the last element"
      ],
      "metadata": {
        "colab": {
          "base_uri": "https://localhost:8080/"
        },
        "id": "DEqhnhuQZDLh",
        "outputId": "b03b60c7-368a-4890-8b64-911c26f3eaab"
      },
      "execution_count": 9,
      "outputs": [
        {
          "output_type": "stream",
          "name": "stdout",
          "text": [
            "9\n"
          ]
        }
      ]
    },
    {
      "cell_type": "code",
      "source": [
        "# Extract a subset\n",
        "print(A[0:2, 1:3])"
      ],
      "metadata": {
        "colab": {
          "base_uri": "https://localhost:8080/"
        },
        "id": "VRNMohRcZxls",
        "outputId": "7d4864f1-7b73-4d8a-aa45-309828987260"
      },
      "execution_count": 10,
      "outputs": [
        {
          "output_type": "stream",
          "name": "stdout",
          "text": [
            "[[2 3]\n",
            " [5 6]]\n"
          ]
        }
      ]
    },
    {
      "cell_type": "code",
      "source": [
        "# Extract the whole row\n",
        "print(A[1,:])"
      ],
      "metadata": {
        "colab": {
          "base_uri": "https://localhost:8080/"
        },
        "id": "HP2VNMQAagsJ",
        "outputId": "90575c4f-fef4-4d51-bb9a-f202cf9e9da6"
      },
      "execution_count": 11,
      "outputs": [
        {
          "output_type": "stream",
          "name": "stdout",
          "text": [
            "[4 5 6]\n"
          ]
        }
      ]
    },
    {
      "cell_type": "code",
      "source": [
        "# Extract the whole column\n",
        "print(A[:,1])"
      ],
      "metadata": {
        "colab": {
          "base_uri": "https://localhost:8080/"
        },
        "id": "jthuQOlRazig",
        "outputId": "ba6badb0-a6f0-463f-d021-6bed03da99fe"
      },
      "execution_count": 12,
      "outputs": [
        {
          "output_type": "stream",
          "name": "stdout",
          "text": [
            "[2 5 8]\n"
          ]
        }
      ]
    },
    {
      "cell_type": "markdown",
      "source": [
        "# **3. Useful Methods**"
      ],
      "metadata": {
        "id": "PL5J59M-bP3S"
      }
    },
    {
      "cell_type": "markdown",
      "source": [
        "## 3.1. Find"
      ],
      "metadata": {
        "id": "cqQWz6LqbXzP"
      }
    },
    {
      "cell_type": "code",
      "source": [
        "# Find a value\n",
        "print(np.where(A == 5))"
      ],
      "metadata": {
        "colab": {
          "base_uri": "https://localhost:8080/"
        },
        "id": "cNs8B0esbXU9",
        "outputId": "eeba7f8d-37b0-4f81-ac02-a55feddfaced"
      },
      "execution_count": 15,
      "outputs": [
        {
          "output_type": "stream",
          "name": "stdout",
          "text": [
            "(array([1]), array([1]))\n"
          ]
        }
      ]
    },
    {
      "cell_type": "markdown",
      "source": [
        "## 3.2. Zeros and Ones"
      ],
      "metadata": {
        "id": "TpaslFaffLFn"
      }
    },
    {
      "cell_type": "code",
      "source": [
        "# Zeros\n",
        "\n",
        "z1 = np.zeros((2,3))\n",
        "print(z1)"
      ],
      "metadata": {
        "colab": {
          "base_uri": "https://localhost:8080/"
        },
        "id": "RS5wd8ysfFMM",
        "outputId": "88d8678e-894c-451d-e425-ed026daaefa5"
      },
      "execution_count": 16,
      "outputs": [
        {
          "output_type": "stream",
          "name": "stdout",
          "text": [
            "[[0. 0. 0.]\n",
            " [0. 0. 0.]]\n"
          ]
        }
      ]
    },
    {
      "cell_type": "code",
      "source": [
        "# Ones\n",
        "\n",
        "o1 = np.ones((2,3))\n",
        "print(o1)"
      ],
      "metadata": {
        "colab": {
          "base_uri": "https://localhost:8080/"
        },
        "id": "qApgmkglgGEB",
        "outputId": "5c7d27ad-70cb-4176-f4a9-806e25ec46c4"
      },
      "execution_count": 17,
      "outputs": [
        {
          "output_type": "stream",
          "name": "stdout",
          "text": [
            "[[1. 1. 1.]\n",
            " [1. 1. 1.]]\n"
          ]
        }
      ]
    },
    {
      "cell_type": "markdown",
      "source": [
        "## 3.3. Full"
      ],
      "metadata": {
        "id": "sj8WxcN2gZxb"
      }
    },
    {
      "cell_type": "code",
      "source": [
        "# Create an object with the same value\n",
        "print(np.full((2,3), 99))"
      ],
      "metadata": {
        "colab": {
          "base_uri": "https://localhost:8080/"
        },
        "id": "2YlmaAxigX7D",
        "outputId": "dad48ce6-df00-442a-91fb-e28dbc7e15df"
      },
      "execution_count": 20,
      "outputs": [
        {
          "output_type": "stream",
          "name": "stdout",
          "text": [
            "[[99 99 99]\n",
            " [99 99 99]]\n"
          ]
        }
      ]
    },
    {
      "cell_type": "markdown",
      "source": [
        "## 3.4. Arange"
      ],
      "metadata": {
        "id": "RTYrHiGrg_iC"
      }
    },
    {
      "cell_type": "code",
      "source": [
        "# Create a value squence\n",
        "\n",
        "s1 = np.arange(start = 0, stop = 5.5, step = 0.5)\n",
        "print(s1)"
      ],
      "metadata": {
        "colab": {
          "base_uri": "https://localhost:8080/"
        },
        "id": "KrBcCflAhE1u",
        "outputId": "baee2df1-12d7-435b-8cfe-7181fe764e0c"
      },
      "execution_count": 24,
      "outputs": [
        {
          "output_type": "stream",
          "name": "stdout",
          "text": [
            "[0.  0.5 1.  1.5 2.  2.5 3.  3.5 4.  4.5 5. ]\n"
          ]
        }
      ]
    }
  ]
}