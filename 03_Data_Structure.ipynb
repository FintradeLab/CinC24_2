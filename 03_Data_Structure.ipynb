{
  "nbformat": 4,
  "nbformat_minor": 0,
  "metadata": {
    "colab": {
      "provenance": [],
      "authorship_tag": "ABX9TyONbFUo9lTPnWaryFDNj0qk",
      "include_colab_link": true
    },
    "kernelspec": {
      "name": "python3",
      "display_name": "Python 3"
    },
    "language_info": {
      "name": "python"
    }
  },
  "cells": [
    {
      "cell_type": "markdown",
      "metadata": {
        "id": "view-in-github",
        "colab_type": "text"
      },
      "source": [
        "<a href=\"https://colab.research.google.com/github/FintradeLab/CinC24_2/blob/main/03_Data_Structure.ipynb\" target=\"_parent\"><img src=\"https://colab.research.google.com/assets/colab-badge.svg\" alt=\"Open In Colab\"/></a>"
      ]
    },
    {
      "cell_type": "markdown",
      "source": [
        "# **1. What is a DS?**"
      ],
      "metadata": {
        "id": "Eqb0LuXwVFGd"
      }
    },
    {
      "cell_type": "markdown",
      "source": [
        "A variable that stores a *value sequence*.\n",
        "\n",
        "Expamples: List,arrays, tuplets, database"
      ],
      "metadata": {
        "id": "y2MEgXG1VOFg"
      }
    },
    {
      "cell_type": "markdown",
      "source": [
        "# **2. Linear Algebra**"
      ],
      "metadata": {
        "id": "m2VGUMalV85p"
      }
    },
    {
      "cell_type": "markdown",
      "source": [
        "## 2.1. Numpy"
      ],
      "metadata": {
        "id": "TSg0TFKWWL_y"
      }
    },
    {
      "cell_type": "markdown",
      "source": [
        "Numpy (Numerical Python) is a library that perform operations in DS. Meaning, it does linear algebra."
      ],
      "metadata": {
        "id": "HzJPhfBSWSah"
      }
    },
    {
      "cell_type": "code",
      "execution_count": 5,
      "metadata": {
        "id": "6yURddT7U4JC"
      },
      "outputs": [],
      "source": [
        "import numpy as np"
      ]
    },
    {
      "cell_type": "markdown",
      "source": [
        "## 2.2. Numpy arrays - Vectors and Matrices"
      ],
      "metadata": {
        "id": "YCB-6cabXjDD"
      }
    },
    {
      "cell_type": "code",
      "source": [
        "# Column vector\n",
        "a = np.array([[1],[2],[3]])\n",
        "print(a)\n",
        "print(a.shape)"
      ],
      "metadata": {
        "colab": {
          "base_uri": "https://localhost:8080/"
        },
        "id": "M_GdY6-SXC8D",
        "outputId": "bcdfa91a-6f03-477a-a1a2-31e7ba77bf6a"
      },
      "execution_count": 11,
      "outputs": [
        {
          "output_type": "stream",
          "name": "stdout",
          "text": [
            "[[1]\n",
            " [2]\n",
            " [3]]\n",
            "(3, 1)\n"
          ]
        }
      ]
    },
    {
      "cell_type": "code",
      "source": [
        "# Row vector\n",
        "b = np.array([[4,5,6]])\n",
        "print(b)\n",
        "print(b.shape)"
      ],
      "metadata": {
        "colab": {
          "base_uri": "https://localhost:8080/"
        },
        "id": "kNeauyGwZ_nZ",
        "outputId": "b786e2d9-34df-4b0f-aef9-1fedaf9f5ad3"
      },
      "execution_count": 12,
      "outputs": [
        {
          "output_type": "stream",
          "name": "stdout",
          "text": [
            "[[4 5 6]]\n",
            "(1, 3)\n"
          ]
        }
      ]
    },
    {
      "cell_type": "code",
      "source": [
        "# Squared Matrix\n",
        "A = np.array([[1,2,3],\n",
        "              [4,5,6],\n",
        "              [7,8,9]])\n",
        "print(A)\n",
        "print(A.shape)"
      ],
      "metadata": {
        "colab": {
          "base_uri": "https://localhost:8080/"
        },
        "id": "E1trWqO6aP5v",
        "outputId": "de567ba9-54f1-4e87-e706-1acda50cb25b"
      },
      "execution_count": 13,
      "outputs": [
        {
          "output_type": "stream",
          "name": "stdout",
          "text": [
            "[[1 2 3]\n",
            " [4 5 6]\n",
            " [7 8 9]]\n",
            "(3, 3)\n"
          ]
        }
      ]
    },
    {
      "cell_type": "code",
      "source": [
        "s = A.shape\n",
        "print(s)\n",
        "\n",
        "n, m = A.shape\n",
        "print('Number of rows', n)\n",
        "print('Number of columns', m)"
      ],
      "metadata": {
        "colab": {
          "base_uri": "https://localhost:8080/"
        },
        "id": "1203tp0NbYdf",
        "outputId": "2d451c98-feb5-4327-88fd-dc5d379df332"
      },
      "execution_count": 16,
      "outputs": [
        {
          "output_type": "stream",
          "name": "stdout",
          "text": [
            "(3, 3)\n",
            "Number of rows 3\n",
            "Number of columns 3\n"
          ]
        }
      ]
    },
    {
      "cell_type": "code",
      "source": [
        "## WARNING!!!\n",
        "x = 2\n",
        "y = np.array([[2]])\n",
        "print(type(x), type(y))"
      ],
      "metadata": {
        "colab": {
          "base_uri": "https://localhost:8080/"
        },
        "id": "ayUL30ETcCHN",
        "outputId": "20b97e85-8a8a-48de-8387-01545edbeed6"
      },
      "execution_count": 17,
      "outputs": [
        {
          "output_type": "stream",
          "name": "stdout",
          "text": [
            "<class 'int'> <class 'numpy.ndarray'>\n"
          ]
        }
      ]
    }
  ]
}