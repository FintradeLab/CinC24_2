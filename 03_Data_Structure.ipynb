{
  "nbformat": 4,
  "nbformat_minor": 0,
  "metadata": {
    "colab": {
      "provenance": [],
      "authorship_tag": "ABX9TyOfUE6JNTkE9BZViTK4VaaJ",
      "include_colab_link": true
    },
    "kernelspec": {
      "name": "python3",
      "display_name": "Python 3"
    },
    "language_info": {
      "name": "python"
    }
  },
  "cells": [
    {
      "cell_type": "markdown",
      "metadata": {
        "id": "view-in-github",
        "colab_type": "text"
      },
      "source": [
        "<a href=\"https://colab.research.google.com/github/FintradeLab/CinC24_2/blob/main/03_Data_Structure.ipynb\" target=\"_parent\"><img src=\"https://colab.research.google.com/assets/colab-badge.svg\" alt=\"Open In Colab\"/></a>"
      ]
    },
    {
      "cell_type": "markdown",
      "source": [
        "# **1. What is a DS?**"
      ],
      "metadata": {
        "id": "Eqb0LuXwVFGd"
      }
    },
    {
      "cell_type": "markdown",
      "source": [
        "A variable that stores a *value sequence*.\n",
        "\n",
        "Expamples: List,arrays, tuplets, database"
      ],
      "metadata": {
        "id": "y2MEgXG1VOFg"
      }
    },
    {
      "cell_type": "markdown",
      "source": [
        "# **2. Linear Algebra**"
      ],
      "metadata": {
        "id": "m2VGUMalV85p"
      }
    },
    {
      "cell_type": "markdown",
      "source": [
        "## 2.1. Numpy"
      ],
      "metadata": {
        "id": "TSg0TFKWWL_y"
      }
    },
    {
      "cell_type": "markdown",
      "source": [
        "Numpy (Numerical Python) is a library that perform operations in DS. Meaning, it does linear algebra."
      ],
      "metadata": {
        "id": "HzJPhfBSWSah"
      }
    },
    {
      "cell_type": "code",
      "execution_count": 2,
      "metadata": {
        "id": "6yURddT7U4JC"
      },
      "outputs": [],
      "source": [
        "import numpy as np"
      ]
    },
    {
      "cell_type": "markdown",
      "source": [
        "## 2.2. Numpy arrays - Vectors and Matrices"
      ],
      "metadata": {
        "id": "YCB-6cabXjDD"
      }
    },
    {
      "cell_type": "code",
      "source": [
        "# Column vector\n",
        "a = np.array([[1],[2],[3]])\n",
        "print(a)\n",
        "print(a.shape)"
      ],
      "metadata": {
        "colab": {
          "base_uri": "https://localhost:8080/"
        },
        "id": "M_GdY6-SXC8D",
        "outputId": "e3d876e1-bc55-4cd3-888d-fbc2b12f88a5"
      },
      "execution_count": 3,
      "outputs": [
        {
          "output_type": "stream",
          "name": "stdout",
          "text": [
            "[[1]\n",
            " [2]\n",
            " [3]]\n",
            "(3, 1)\n"
          ]
        }
      ]
    },
    {
      "cell_type": "code",
      "source": [
        "# Row vector\n",
        "b = np.array([[4,5,6]])\n",
        "print(b)\n",
        "print(b.shape)"
      ],
      "metadata": {
        "colab": {
          "base_uri": "https://localhost:8080/"
        },
        "id": "kNeauyGwZ_nZ",
        "outputId": "46a552d2-1b78-4091-8f41-ed440e584e7d"
      },
      "execution_count": 4,
      "outputs": [
        {
          "output_type": "stream",
          "name": "stdout",
          "text": [
            "[[4 5 6]]\n",
            "(1, 3)\n"
          ]
        }
      ]
    },
    {
      "cell_type": "code",
      "source": [
        "# Squared Matrix\n",
        "A = np.array([[1,2,3],\n",
        "              [4,5,6],\n",
        "              [7,8,9]])\n",
        "print(A)\n",
        "print(A.shape)"
      ],
      "metadata": {
        "colab": {
          "base_uri": "https://localhost:8080/"
        },
        "id": "E1trWqO6aP5v",
        "outputId": "724c231f-81cf-4146-da20-85f09ea7e128"
      },
      "execution_count": 5,
      "outputs": [
        {
          "output_type": "stream",
          "name": "stdout",
          "text": [
            "[[1 2 3]\n",
            " [4 5 6]\n",
            " [7 8 9]]\n",
            "(3, 3)\n"
          ]
        }
      ]
    },
    {
      "cell_type": "code",
      "source": [
        "s = A.shape\n",
        "print(s)\n",
        "\n",
        "n, m = A.shape\n",
        "print('Number of rows', n)\n",
        "print('Number of columns', m)"
      ],
      "metadata": {
        "colab": {
          "base_uri": "https://localhost:8080/"
        },
        "id": "1203tp0NbYdf",
        "outputId": "312e7f57-c98d-4cbc-e844-7762e94bda17"
      },
      "execution_count": 6,
      "outputs": [
        {
          "output_type": "stream",
          "name": "stdout",
          "text": [
            "(3, 3)\n",
            "Number of rows 3\n",
            "Number of columns 3\n"
          ]
        }
      ]
    },
    {
      "cell_type": "code",
      "source": [
        "## WARNING!!!\n",
        "x = 2\n",
        "y = np.array([[2]])\n",
        "print(type(x), type(y))"
      ],
      "metadata": {
        "colab": {
          "base_uri": "https://localhost:8080/"
        },
        "id": "ayUL30ETcCHN",
        "outputId": "f17a435b-b3ca-49ae-b302-a0519cd62f24"
      },
      "execution_count": 7,
      "outputs": [
        {
          "output_type": "stream",
          "name": "stdout",
          "text": [
            "<class 'int'> <class 'numpy.ndarray'>\n"
          ]
        }
      ]
    },
    {
      "cell_type": "markdown",
      "source": [
        "## 2.3. Slicing"
      ],
      "metadata": {
        "id": "U1avI3NnYB6R"
      }
    },
    {
      "cell_type": "code",
      "source": [
        "# Extract one element\n",
        "\n",
        "print(A[0,0]) # Extract the element in row 1 column 1\n",
        "print(a[1,0]) # Extract the element in row 2 column 1\n",
        "print(b[0,1]) # Extract the element in row 1 column 2"
      ],
      "metadata": {
        "colab": {
          "base_uri": "https://localhost:8080/"
        },
        "id": "uNuxWvXAYHlX",
        "outputId": "56aabf99-04a3-4b14-f4f3-83772fc10886"
      },
      "execution_count": 8,
      "outputs": [
        {
          "output_type": "stream",
          "name": "stdout",
          "text": [
            "1\n",
            "2\n",
            "5\n"
          ]
        }
      ]
    },
    {
      "cell_type": "code",
      "source": [
        "# A little trick\n",
        "\n",
        "print(A[-1,-1]) # Extract the last element"
      ],
      "metadata": {
        "colab": {
          "base_uri": "https://localhost:8080/"
        },
        "id": "DEqhnhuQZDLh",
        "outputId": "e422c1a5-6e91-44c5-e464-6b62b9ad1b17"
      },
      "execution_count": 9,
      "outputs": [
        {
          "output_type": "stream",
          "name": "stdout",
          "text": [
            "9\n"
          ]
        }
      ]
    },
    {
      "cell_type": "code",
      "source": [
        "# Extract a subset\n",
        "print(A[0:2, 1:3])"
      ],
      "metadata": {
        "colab": {
          "base_uri": "https://localhost:8080/"
        },
        "id": "VRNMohRcZxls",
        "outputId": "9ca521ce-4392-44b9-eb4d-7eb25463397b"
      },
      "execution_count": 10,
      "outputs": [
        {
          "output_type": "stream",
          "name": "stdout",
          "text": [
            "[[2 3]\n",
            " [5 6]]\n"
          ]
        }
      ]
    },
    {
      "cell_type": "code",
      "source": [
        "# Extract the whole row\n",
        "print(A[1,:])"
      ],
      "metadata": {
        "colab": {
          "base_uri": "https://localhost:8080/"
        },
        "id": "HP2VNMQAagsJ",
        "outputId": "3a18487f-a487-4f0e-cc55-c4ed01256a6c"
      },
      "execution_count": 11,
      "outputs": [
        {
          "output_type": "stream",
          "name": "stdout",
          "text": [
            "[4 5 6]\n"
          ]
        }
      ]
    },
    {
      "cell_type": "code",
      "source": [
        "# Extract the whole column\n",
        "print(A[:,1])"
      ],
      "metadata": {
        "colab": {
          "base_uri": "https://localhost:8080/"
        },
        "id": "jthuQOlRazig",
        "outputId": "b02f95b4-770f-4934-db72-b2e6c0697656"
      },
      "execution_count": 12,
      "outputs": [
        {
          "output_type": "stream",
          "name": "stdout",
          "text": [
            "[2 5 8]\n"
          ]
        }
      ]
    },
    {
      "cell_type": "markdown",
      "source": [
        "# **3. Useful Methods**"
      ],
      "metadata": {
        "id": "PL5J59M-bP3S"
      }
    },
    {
      "cell_type": "markdown",
      "source": [
        "## 3.1. Find"
      ],
      "metadata": {
        "id": "cqQWz6LqbXzP"
      }
    },
    {
      "cell_type": "code",
      "source": [
        "# Find a value\n",
        "print(np.where(A == 5))"
      ],
      "metadata": {
        "colab": {
          "base_uri": "https://localhost:8080/"
        },
        "id": "cNs8B0esbXU9",
        "outputId": "e3f5f39f-4f30-4153-cc09-44d03eb93daf"
      },
      "execution_count": 13,
      "outputs": [
        {
          "output_type": "stream",
          "name": "stdout",
          "text": [
            "(array([1]), array([1]))\n"
          ]
        }
      ]
    },
    {
      "cell_type": "markdown",
      "source": [
        "## 3.2. Zeros and Ones"
      ],
      "metadata": {
        "id": "TpaslFaffLFn"
      }
    },
    {
      "cell_type": "code",
      "source": [
        "# Zeros\n",
        "\n",
        "z1 = np.zeros((2,3))\n",
        "print(z1)"
      ],
      "metadata": {
        "colab": {
          "base_uri": "https://localhost:8080/"
        },
        "id": "RS5wd8ysfFMM",
        "outputId": "3dd15746-bdd8-46b2-cd6b-24f03fe77bf2"
      },
      "execution_count": 14,
      "outputs": [
        {
          "output_type": "stream",
          "name": "stdout",
          "text": [
            "[[0. 0. 0.]\n",
            " [0. 0. 0.]]\n"
          ]
        }
      ]
    },
    {
      "cell_type": "code",
      "source": [
        "# Ones\n",
        "\n",
        "o1 = np.ones((2,3))\n",
        "print(o1)"
      ],
      "metadata": {
        "colab": {
          "base_uri": "https://localhost:8080/"
        },
        "id": "qApgmkglgGEB",
        "outputId": "b4f7ebce-b34b-4eec-f1e8-ff5184dd64a4"
      },
      "execution_count": 15,
      "outputs": [
        {
          "output_type": "stream",
          "name": "stdout",
          "text": [
            "[[1. 1. 1.]\n",
            " [1. 1. 1.]]\n"
          ]
        }
      ]
    },
    {
      "cell_type": "markdown",
      "source": [
        "## 3.3. Full"
      ],
      "metadata": {
        "id": "sj8WxcN2gZxb"
      }
    },
    {
      "cell_type": "code",
      "source": [
        "# Create an object with the same value\n",
        "print(np.full((2,3), 99))"
      ],
      "metadata": {
        "colab": {
          "base_uri": "https://localhost:8080/"
        },
        "id": "2YlmaAxigX7D",
        "outputId": "ae9eb610-4aa8-4266-8dc8-d1e640debd10"
      },
      "execution_count": 16,
      "outputs": [
        {
          "output_type": "stream",
          "name": "stdout",
          "text": [
            "[[99 99 99]\n",
            " [99 99 99]]\n"
          ]
        }
      ]
    },
    {
      "cell_type": "markdown",
      "source": [
        "## 3.4. Arange"
      ],
      "metadata": {
        "id": "RTYrHiGrg_iC"
      }
    },
    {
      "cell_type": "code",
      "source": [
        "# Create a value squence\n",
        "\n",
        "s1 = np.arange(start = 0, stop = 5.5, step = 0.5)\n",
        "print(s1)"
      ],
      "metadata": {
        "colab": {
          "base_uri": "https://localhost:8080/"
        },
        "id": "KrBcCflAhE1u",
        "outputId": "421a2cac-7977-4df6-a4cc-c091f0864396"
      },
      "execution_count": 17,
      "outputs": [
        {
          "output_type": "stream",
          "name": "stdout",
          "text": [
            "[0.  0.5 1.  1.5 2.  2.5 3.  3.5 4.  4.5 5. ]\n"
          ]
        }
      ]
    },
    {
      "cell_type": "markdown",
      "source": [
        "## 3.5. Linear space"
      ],
      "metadata": {
        "id": "uHCdd_SreVeM"
      }
    },
    {
      "cell_type": "code",
      "source": [
        "np.linspace(start = 0, stop = 10, num = 7)"
      ],
      "metadata": {
        "colab": {
          "base_uri": "https://localhost:8080/"
        },
        "id": "d76kacyIeZh2",
        "outputId": "8424bf04-82d4-475a-fdfd-3d75cf4398e5"
      },
      "execution_count": 20,
      "outputs": [
        {
          "output_type": "execute_result",
          "data": {
            "text/plain": [
              "array([ 0.        ,  1.66666667,  3.33333333,  5.        ,  6.66666667,\n",
              "        8.33333333, 10.        ])"
            ]
          },
          "metadata": {},
          "execution_count": 20
        }
      ]
    },
    {
      "cell_type": "markdown",
      "source": [
        "# **4. Random numbers**"
      ],
      "metadata": {
        "id": "iZsBU2wXfL-L"
      }
    },
    {
      "cell_type": "markdown",
      "source": [
        "## 4.1. Uniform distribution [0,1)"
      ],
      "metadata": {
        "id": "3VImi7MNfPs1"
      }
    },
    {
      "cell_type": "code",
      "source": [
        "# A random number\n",
        "np.random.rand()"
      ],
      "metadata": {
        "colab": {
          "base_uri": "https://localhost:8080/"
        },
        "id": "nTBU-tlcfj0Q",
        "outputId": "4af84193-ca1f-4645-d745-27dac0482239"
      },
      "execution_count": 26,
      "outputs": [
        {
          "output_type": "execute_result",
          "data": {
            "text/plain": [
              "0.42157945978009104"
            ]
          },
          "metadata": {},
          "execution_count": 26
        }
      ]
    },
    {
      "cell_type": "code",
      "source": [
        "# A matrix or vector\n",
        "np.random.rand(2,3)"
      ],
      "metadata": {
        "colab": {
          "base_uri": "https://localhost:8080/"
        },
        "id": "3Fo9L-Hxg9-c",
        "outputId": "593433bb-7cb3-43bc-fee2-68e42471f283"
      },
      "execution_count": 32,
      "outputs": [
        {
          "output_type": "execute_result",
          "data": {
            "text/plain": [
              "array([[0.58607567, 0.99737797, 0.19753541],\n",
              "       [0.79345647, 0.198236  , 0.75963903]])"
            ]
          },
          "metadata": {},
          "execution_count": 32
        }
      ]
    },
    {
      "cell_type": "code",
      "source": [
        "### Example 1 - Toin coss\n",
        "\n",
        "if np.random.rand() > 0.5:\n",
        "  print('Heads')\n",
        "else:\n",
        "  print('Tails')\n",
        "\n"
      ],
      "metadata": {
        "colab": {
          "base_uri": "https://localhost:8080/"
        },
        "id": "fb4LBz9bhOJ9",
        "outputId": "daa9ec49-83de-4f34-cbc7-5f7d40eb0913"
      },
      "execution_count": 41,
      "outputs": [
        {
          "output_type": "stream",
          "name": "stdout",
          "text": [
            "Heads\n"
          ]
        }
      ]
    },
    {
      "cell_type": "code",
      "source": [
        "### Example 2 - Three options\n",
        "\n",
        "toss = np.random.rand()\n",
        "\n",
        "if toss <= 0.7:\n",
        "  print('Win')\n",
        "elif toss > 0.7 and toss <= 0.8:\n",
        "  print('Draw')\n",
        "else:\n",
        "  print('Lose')\n"
      ],
      "metadata": {
        "colab": {
          "base_uri": "https://localhost:8080/"
        },
        "id": "C9KK1P3CiN7r",
        "outputId": "0b755864-351c-459d-a922-4bf092902949"
      },
      "execution_count": 55,
      "outputs": [
        {
          "output_type": "stream",
          "name": "stdout",
          "text": [
            "Lose\n"
          ]
        }
      ]
    },
    {
      "cell_type": "code",
      "source": [
        "# Exercise\n",
        "## Simulate three coin tosses\n",
        "## Present the result according to:\n",
        "\n",
        "## 1. If the person get 3 Heads win 100k\n",
        "## 2. If the person get 3 Tails lose 100k\n",
        "## 3. In any other case, nothing happens\n",
        "\n",
        "toss1 = np.random.rand()\n",
        "toss2 = np.random.rand()\n",
        "toss3 = np.random.rand()\n",
        "\n",
        "if toss1 > 0.5 and toss2 > 0.5 and toss3 > 0.5:\n",
        "  print('Win')\n",
        "  print('You got 3 Heads')\n",
        "elif toss1 < 0.5 and toss2 < 0.5 and toss3 < 0.5:\n",
        "  print('Lose')\n",
        "  print('You got 3 Tails')\n",
        "else:\n",
        "    print('Nothing')\n",
        "    print('You got at least 1 Tails')"
      ],
      "metadata": {
        "colab": {
          "base_uri": "https://localhost:8080/"
        },
        "id": "z1hOvLOnj5W7",
        "outputId": "c957aa2b-257b-44bd-c9c5-a91921b1945d"
      },
      "execution_count": 65,
      "outputs": [
        {
          "output_type": "stream",
          "name": "stdout",
          "text": [
            "Nothing\n",
            "You got at least 1 Tails\n"
          ]
        }
      ]
    },
    {
      "cell_type": "code",
      "source": [
        "# Exercise\n",
        "## Simulate three coin tosses\n",
        "## Present the result according to:\n",
        "\n",
        "## 1. If the person get 3 Heads win 100k\n",
        "## 2. If the person get 3 Tails lose 100k\n",
        "## 3. In any other case, nothing happens\n",
        "\n",
        "toss = np.random.rand(3)\n",
        "\n",
        "if np.all(toss >= 0.5):\n",
        "  print('Win')\n",
        "  print('You got 3 Heads')\n",
        "elif np.all(toss < 0.5):\n",
        "  print('Lose')\n",
        "  print('You got 3 Tails')\n",
        "else:\n",
        "    print('Nothing')\n",
        "    print('You got at least 1 Tails')"
      ],
      "metadata": {
        "colab": {
          "base_uri": "https://localhost:8080/"
        },
        "id": "BLSmc4xlnzJ0",
        "outputId": "6b600358-e5d2-43dd-f989-26d7422762ce"
      },
      "execution_count": 66,
      "outputs": [
        {
          "output_type": "stream",
          "name": "stdout",
          "text": [
            "Nothing\n",
            "You got at least 1 Tails\n"
          ]
        }
      ]
    },
    {
      "cell_type": "markdown",
      "source": [
        "## 4.2. Uniform distribution [a,b)"
      ],
      "metadata": {
        "id": "0Pz76YiEohHG"
      }
    },
    {
      "cell_type": "code",
      "source": [
        "# A random number\n",
        "np.random.uniform(low = -1, high = 1)"
      ],
      "metadata": {
        "colab": {
          "base_uri": "https://localhost:8080/"
        },
        "id": "LYXXD3WIogl1",
        "outputId": "f4151ecc-f62f-46f6-8b41-98ee1164cd58"
      },
      "execution_count": 82,
      "outputs": [
        {
          "output_type": "execute_result",
          "data": {
            "text/plain": [
              "0.14777569073456753"
            ]
          },
          "metadata": {},
          "execution_count": 82
        }
      ]
    },
    {
      "cell_type": "code",
      "source": [
        "# A matrix or vector\n",
        "np.random.uniform(low = -1, high = 1, size = (2,3))"
      ],
      "metadata": {
        "colab": {
          "base_uri": "https://localhost:8080/"
        },
        "id": "Q4wCHOl9o8fQ",
        "outputId": "205d65e8-20d2-4657-ff9a-663e4731170d"
      },
      "execution_count": 86,
      "outputs": [
        {
          "output_type": "execute_result",
          "data": {
            "text/plain": [
              "array([[ 0.75711449,  0.81741447, -0.5141829 ],\n",
              "       [-0.34775701,  0.9466548 , -0.26082622]])"
            ]
          },
          "metadata": {},
          "execution_count": 86
        }
      ]
    },
    {
      "cell_type": "markdown",
      "source": [
        "## 4.3. Triangular distribution"
      ],
      "metadata": {
        "id": "NYcWwx9jpJck"
      }
    },
    {
      "cell_type": "code",
      "source": [
        "np.random.triangular(left = 30, mode = 100, right = 170)"
      ],
      "metadata": {
        "colab": {
          "base_uri": "https://localhost:8080/"
        },
        "id": "JDy4fBwTtstN",
        "outputId": "5b096541-e104-4849-ade1-b5b998ee36ea"
      },
      "execution_count": 98,
      "outputs": [
        {
          "output_type": "execute_result",
          "data": {
            "text/plain": [
              "95.58232799041608"
            ]
          },
          "metadata": {},
          "execution_count": 98
        }
      ]
    }
  ]
}