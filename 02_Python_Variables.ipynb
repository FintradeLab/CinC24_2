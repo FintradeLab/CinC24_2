{
  "nbformat": 4,
  "nbformat_minor": 0,
  "metadata": {
    "colab": {
      "provenance": [],
      "authorship_tag": "ABX9TyOzO/eeYnSTYofTe2kg/OxJ",
      "include_colab_link": true
    },
    "kernelspec": {
      "name": "python3",
      "display_name": "Python 3"
    },
    "language_info": {
      "name": "python"
    }
  },
  "cells": [
    {
      "cell_type": "markdown",
      "metadata": {
        "id": "view-in-github",
        "colab_type": "text"
      },
      "source": [
        "<a href=\"https://colab.research.google.com/github/FintradeLab/CinC24_2/blob/main/02_Python_Variables.ipynb\" target=\"_parent\"><img src=\"https://colab.research.google.com/assets/colab-badge.svg\" alt=\"Open In Colab\"/></a>"
      ]
    },
    {
      "cell_type": "markdown",
      "source": [
        "# **1. What is a variable?**\n",
        "\n",
        "Something that stores a value"
      ],
      "metadata": {
        "id": "5C69No6zQZNg"
      }
    },
    {
      "cell_type": "code",
      "execution_count": 5,
      "metadata": {
        "id": "1dz09TZUQUP-",
        "colab": {
          "base_uri": "https://localhost:8080/"
        },
        "outputId": "c7b5d962-ae7c-4db7-c2dc-17002e0f056a"
      },
      "outputs": [
        {
          "output_type": "stream",
          "name": "stdout",
          "text": [
            "3.0\n"
          ]
        }
      ],
      "source": [
        "# Example\n",
        "a = 3.0\n",
        "print(a)"
      ]
    },
    {
      "cell_type": "code",
      "source": [
        "# Example as calculator\n",
        "a = 3.0\n",
        "b = 4.0\n",
        "print(a + b)"
      ],
      "metadata": {
        "colab": {
          "base_uri": "https://localhost:8080/"
        },
        "id": "ubGzKgMBSIiI",
        "outputId": "7ade7278-116c-4b8c-f862-224d129f7637"
      },
      "execution_count": 6,
      "outputs": [
        {
          "output_type": "stream",
          "name": "stdout",
          "text": [
            "7.0\n"
          ]
        }
      ]
    },
    {
      "cell_type": "code",
      "source": [
        "# Chain assingment 1\n",
        "a, b = 3.0, 4.0\n",
        "print(a + b)"
      ],
      "metadata": {
        "colab": {
          "base_uri": "https://localhost:8080/"
        },
        "id": "YbUBYkdfSYvv",
        "outputId": "f3ba6562-9fc6-496f-f24d-5e6734504545"
      },
      "execution_count": 7,
      "outputs": [
        {
          "output_type": "stream",
          "name": "stdout",
          "text": [
            "7.0\n"
          ]
        }
      ]
    },
    {
      "cell_type": "code",
      "source": [
        "# Chain assingment 2\n",
        "x = y = z = 100\n",
        "print(x, y, z)"
      ],
      "metadata": {
        "colab": {
          "base_uri": "https://localhost:8080/"
        },
        "id": "zj264SzAS_qf",
        "outputId": "38b4a4de-2532-4dd9-9a97-325ed27c7ae3"
      },
      "execution_count": 8,
      "outputs": [
        {
          "output_type": "stream",
          "name": "stdout",
          "text": [
            "100 100 100\n"
          ]
        }
      ]
    },
    {
      "cell_type": "markdown",
      "source": [
        "# **3. Delete and clear**"
      ],
      "metadata": {
        "id": "gHRCK_wcTXK_"
      }
    },
    {
      "cell_type": "code",
      "source": [
        "# Delete x and y\n",
        "del x, y"
      ],
      "metadata": {
        "id": "fOHwROJqTcqh"
      },
      "execution_count": 9,
      "outputs": []
    },
    {
      "cell_type": "code",
      "source": [
        "# Erase all variable\n",
        "%reset"
      ],
      "metadata": {
        "colab": {
          "base_uri": "https://localhost:8080/"
        },
        "id": "62IdigFITweP",
        "outputId": "42b35237-d31d-495e-f206-55d59673fa13"
      },
      "execution_count": 10,
      "outputs": [
        {
          "name": "stdout",
          "output_type": "stream",
          "text": [
            "Once deleted, variables cannot be recovered. Proceed (y/[n])? y\n"
          ]
        }
      ]
    },
    {
      "cell_type": "markdown",
      "source": [
        "# **Practice**"
      ],
      "metadata": {
        "id": "Yhm-wx9xUWGh"
      }
    },
    {
      "cell_type": "code",
      "source": [
        "# Practice\n",
        "## Approximate the number 15.476352489\n",
        "## to 1, 2, 3,..., 8 decimals and print the results\n",
        "\n",
        "## Use variables\n",
        "\n",
        "n = 15.476352489\n",
        "a = 1\n",
        "b = 9\n",
        "\n",
        "print('The aprroximation of', n)\n",
        "for i in range(a, b):\n",
        "  print('with', i,'decimals is', round(n, i))"
      ],
      "metadata": {
        "colab": {
          "base_uri": "https://localhost:8080/"
        },
        "id": "bszntre1UaP4",
        "outputId": "3fd0d610-fcdb-46dd-88d3-96bcea825239"
      },
      "execution_count": 14,
      "outputs": [
        {
          "output_type": "stream",
          "name": "stdout",
          "text": [
            "The aprroximation of 15.476352489\n",
            "with 1 decimals is 15.5\n",
            "with 2 decimals is 15.48\n",
            "with 3 decimals is 15.476\n",
            "with 4 decimals is 15.4764\n",
            "with 5 decimals is 15.47635\n",
            "with 6 decimals is 15.476352\n",
            "with 7 decimals is 15.4763525\n",
            "with 8 decimals is 15.47635249\n"
          ]
        }
      ]
    },
    {
      "cell_type": "code",
      "source": [
        "# Something\n",
        "w = 0"
      ],
      "metadata": {
        "id": "K78dUAeOXGXA"
      },
      "execution_count": 25,
      "outputs": []
    },
    {
      "cell_type": "code",
      "source": [
        "w += 2"
      ],
      "metadata": {
        "id": "7NBjmJuuXKo5"
      },
      "execution_count": 28,
      "outputs": []
    },
    {
      "cell_type": "markdown",
      "source": [
        "# **4. Naming**"
      ],
      "metadata": {
        "id": "1j-vNySsX90w"
      }
    },
    {
      "cell_type": "code",
      "source": [
        "# Example\n",
        "x = 39\n",
        "miedades = 39\n",
        "laedadquetengoyoes = 39\n",
        "MiEdad = 39"
      ],
      "metadata": {
        "id": "QXSsv2_-YCib"
      },
      "execution_count": null,
      "outputs": []
    },
    {
      "cell_type": "code",
      "source": [
        "my_age = 39"
      ],
      "metadata": {
        "id": "tZ7l5qPQY3wI"
      },
      "execution_count": null,
      "outputs": []
    },
    {
      "cell_type": "markdown",
      "source": [
        "# **5. Data types**"
      ],
      "metadata": {
        "id": "-fao5KvTZNah"
      }
    },
    {
      "cell_type": "markdown",
      "source": [
        "## 5.1. Integers"
      ],
      "metadata": {
        "id": "ZaiqT9BZZSL0"
      }
    },
    {
      "cell_type": "markdown",
      "source": [
        "## 5.2. Floats"
      ],
      "metadata": {
        "id": "VAqwyGpwZVm4"
      }
    },
    {
      "cell_type": "markdown",
      "source": [
        "## 5.3. Booleans"
      ],
      "metadata": {
        "id": "TzOWF1bEZY5C"
      }
    },
    {
      "cell_type": "code",
      "source": [
        "red_shirt = True"
      ],
      "metadata": {
        "id": "9ieYyleBZeRh"
      },
      "execution_count": 30,
      "outputs": []
    },
    {
      "cell_type": "markdown",
      "source": [
        "### Boolean expressions"
      ],
      "metadata": {
        "id": "pXIJ9ELkZ8Fa"
      }
    },
    {
      "cell_type": "code",
      "source": [
        "# Example\n",
        "x = 2\n",
        "y = 3\n",
        "\n",
        "print('x is less than y?', x < y)\n",
        "print('x is greater than y?', x > y)\n",
        "print('x is equal to y?', x == y)\n",
        "print('x is not equal to y?', x != y)\n",
        "print('x is less than or equal to y?', x <= y)\n",
        "print('x is greater than or equal to y?', x >= y)"
      ],
      "metadata": {
        "colab": {
          "base_uri": "https://localhost:8080/"
        },
        "id": "MMLmTrdxaAAV",
        "outputId": "bc6f5937-7173-4ac5-a8b9-6af942721071"
      },
      "execution_count": 33,
      "outputs": [
        {
          "output_type": "stream",
          "name": "stdout",
          "text": [
            "x is less than y? True\n",
            "x is greater than y? False\n",
            "x is equal to y? False\n",
            "x is not equal to y? True\n",
            "x is less than or equal to y? True\n",
            "x is greater than or equal to y? False\n"
          ]
        }
      ]
    },
    {
      "cell_type": "markdown",
      "source": [
        "### Boolean math"
      ],
      "metadata": {
        "id": "T35B7bFAbBKs"
      }
    },
    {
      "cell_type": "code",
      "source": [
        "red_shirt = True\n",
        "blue_pants = False\n",
        "print(red_shirt + blue_pants)"
      ],
      "metadata": {
        "colab": {
          "base_uri": "https://localhost:8080/"
        },
        "id": "rWG3A151bDS1",
        "outputId": "ffd9812b-57e4-4779-ec4f-009f5f44843a"
      },
      "execution_count": 34,
      "outputs": [
        {
          "output_type": "stream",
          "name": "stdout",
          "text": [
            "1\n"
          ]
        }
      ]
    },
    {
      "cell_type": "markdown",
      "source": [
        "## 5.4. String"
      ],
      "metadata": {
        "id": "9IHHD4iyczi-"
      }
    },
    {
      "cell_type": "code",
      "source": [
        "# Example\n",
        "x = 'Universidad de La Salle'\n",
        "print(x)"
      ],
      "metadata": {
        "colab": {
          "base_uri": "https://localhost:8080/"
        },
        "id": "d9N8vkmCc4EJ",
        "outputId": "fc9f3fde-c986-484e-e767-b859f03fdf94"
      },
      "execution_count": 41,
      "outputs": [
        {
          "output_type": "stream",
          "name": "stdout",
          "text": [
            "Universidad de La Salle\n"
          ]
        }
      ]
    },
    {
      "cell_type": "markdown",
      "source": [
        "### Index"
      ],
      "metadata": {
        "id": "T0GcivHIdaSr"
      }
    },
    {
      "cell_type": "code",
      "source": [
        "# Example\n",
        "print('The first element of x is:', x[0])\n",
        "print('The last element of x is:', x[-1])"
      ],
      "metadata": {
        "colab": {
          "base_uri": "https://localhost:8080/"
        },
        "id": "puYNG1_2dY-K",
        "outputId": "ae877ec7-7fab-4c57-b196-8234f78fdcf8"
      },
      "execution_count": 42,
      "outputs": [
        {
          "output_type": "stream",
          "name": "stdout",
          "text": [
            "The first element of x is: U\n",
            "The last element of x is: e\n"
          ]
        }
      ]
    },
    {
      "cell_type": "code",
      "source": [
        "# Example\n",
        "print('The second element of x is:', x[1])\n",
        "print('The second to last element of x is:', x[-2])"
      ],
      "metadata": {
        "colab": {
          "base_uri": "https://localhost:8080/"
        },
        "id": "NKstCBrld6n6",
        "outputId": "2dbf21ca-cb0a-436a-a09f-bdcb7636ef56"
      },
      "execution_count": 43,
      "outputs": [
        {
          "output_type": "stream",
          "name": "stdout",
          "text": [
            "The second element of x is: n\n",
            "The second to last element of x is: l\n"
          ]
        }
      ]
    },
    {
      "cell_type": "code",
      "source": [
        "# Example\n",
        "print('The first word of x is:', x[0:11])"
      ],
      "metadata": {
        "colab": {
          "base_uri": "https://localhost:8080/"
        },
        "id": "lqSQVXW9ef99",
        "outputId": "13a4afe2-db1c-4a02-cdba-46082ab21558"
      },
      "execution_count": 46,
      "outputs": [
        {
          "output_type": "stream",
          "name": "stdout",
          "text": [
            "The first word of x is: Universidad\n"
          ]
        }
      ]
    },
    {
      "cell_type": "code",
      "source": [
        "w = 'jose'\n",
        "v = 'velez'\n",
        "print(w + ' ' + v)"
      ],
      "metadata": {
        "colab": {
          "base_uri": "https://localhost:8080/"
        },
        "id": "7ilzsykyhPWJ",
        "outputId": "e55de0b1-dddc-4ce8-fc5b-8b726baa6dcd"
      },
      "execution_count": 51,
      "outputs": [
        {
          "output_type": "stream",
          "name": "stdout",
          "text": [
            "jose velez\n"
          ]
        }
      ]
    },
    {
      "cell_type": "markdown",
      "source": [
        "### Methods"
      ],
      "metadata": {
        "id": "Kyp2ljz1fVrb"
      }
    },
    {
      "cell_type": "code",
      "source": [
        "# Upper case\n",
        "x.upper()"
      ],
      "metadata": {
        "colab": {
          "base_uri": "https://localhost:8080/",
          "height": 36
        },
        "id": "Ri7a4Hv8fasR",
        "outputId": "d1a332ba-087f-4fe3-e3d8-b5bfb388e518"
      },
      "execution_count": 47,
      "outputs": [
        {
          "output_type": "execute_result",
          "data": {
            "text/plain": [
              "'UNIVERSIDAD DE LA SALLE'"
            ],
            "application/vnd.google.colaboratory.intrinsic+json": {
              "type": "string"
            }
          },
          "metadata": {},
          "execution_count": 47
        }
      ]
    },
    {
      "cell_type": "code",
      "source": [
        "# Lower case\n",
        "x.lower()"
      ],
      "metadata": {
        "colab": {
          "base_uri": "https://localhost:8080/",
          "height": 36
        },
        "id": "46oXECSTfnXi",
        "outputId": "5ab077ea-f922-47c2-99eb-551e936bee31"
      },
      "execution_count": 48,
      "outputs": [
        {
          "output_type": "execute_result",
          "data": {
            "text/plain": [
              "'universidad de la salle'"
            ],
            "application/vnd.google.colaboratory.intrinsic+json": {
              "type": "string"
            }
          },
          "metadata": {},
          "execution_count": 48
        }
      ]
    },
    {
      "cell_type": "code",
      "source": [
        "# replace\n",
        "nx = x.replace(' ','_')\n",
        "print(nx)"
      ],
      "metadata": {
        "colab": {
          "base_uri": "https://localhost:8080/"
        },
        "id": "UN9UOKOTfsOl",
        "outputId": "cd11d37d-29f5-4ca1-92b1-13aa942cf0eb"
      },
      "execution_count": 49,
      "outputs": [
        {
          "output_type": "stream",
          "name": "stdout",
          "text": [
            "Universidad_de_La_Salle\n"
          ]
        }
      ]
    }
  ]
}